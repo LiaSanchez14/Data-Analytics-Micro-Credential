{
  "nbformat": 4,
  "nbformat_minor": 0,
  "metadata": {
    "colab": {
      "name": "Unit 2 Mini_Project_Group6",
      "provenance": [],
      "collapsed_sections": []
    },
    "kernelspec": {
      "name": "python3",
      "display_name": "Python 3"
    },
    "language_info": {
      "name": "python"
    }
  },
  "cells": [
    {
      "cell_type": "code",
      "execution_count": 1,
      "metadata": {
        "colab": {
          "base_uri": "https://localhost:8080/"
        },
        "id": "MS1OhDdzRwVU",
        "outputId": "43651c9f-6f9d-4e73-f715-78b7291d325d"
      },
      "outputs": [
        {
          "output_type": "stream",
          "name": "stdout",
          "text": [
            "Please Enter a Number: 50\n",
            "Yay! 50 is an even number\n",
            "Please Enter an Additional Number: 10\n",
            "50 is completely divisible by  10\n",
            "5.0 is an odd number\n"
          ]
        }
      ],
      "source": [
        "#Ask the user for a number. Depending on whether the number is even or odd, print out an\n",
        "#appropriate message to the user. Hint: how does an even / odd number react differently when divided by 2?\n",
        "\n",
        "#Bonus:\n",
        "\n",
        "#If the number is a multiple of 4, print out a different message.\n",
        "#Ask the user for two numbers: one number to check (call it num) and one number to divide by (check). \n",
        "#If check divides evenly into num, tell that to the user. If not, print a different appropriate message.\n",
        "#Write a custom function for finding whether the number is even or odd and call it in your main program code.\n",
        "\n",
        "num=int(input('Please Enter a Number:'+\" \"))\n",
        "if num %2==1:\n",
        "  print('Yay!',num,'is an odd number')\n",
        "elif num %2==0:\n",
        "  print('Yay!',num, 'is an even number')\n",
        "if num%4==0:\n",
        "  print('and is also a multiple of 4')\n",
        "check=int(input('Please Enter an Additional Number:' + ' '))\n",
        "if(num%check==0):\n",
        "    print(num,\"is completely divisible by \",check)\n",
        "else:\n",
        "   print(num,\"is not divisible by \",check)\n",
        "even_or_odd= num/check\n",
        "if even_or_odd%2==0:\n",
        "  print(even_or_odd,'is an even number')\n",
        "elif even_or_odd%2==1:\n",
        "  print(even_or_odd,'is an odd number')"
      ]
    }
  ]
}