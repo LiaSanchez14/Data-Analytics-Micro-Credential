{
  "nbformat": 4,
  "nbformat_minor": 0,
  "metadata": {
    "colab": {
      "name": "Assignment Unit2_L3",
      "provenance": []
    },
    "kernelspec": {
      "name": "python3",
      "display_name": "Python 3"
    },
    "language_info": {
      "name": "python"
    }
  },
  "cells": [
    {
      "cell_type": "code",
      "execution_count": null,
      "metadata": {
        "colab": {
          "base_uri": "https://localhost:8080/"
        },
        "id": "z7a2n-0nfC1A",
        "outputId": "f97f98b9-63d7-4593-8fa6-77f86db15c4b"
      },
      "outputs": [
        {
          "output_type": "stream",
          "name": "stdout",
          "text": [
            "['Stranger things', 'Dynasty', 'Dolly Parton: Heartstrings', 'Sweet Magnolias', 'CentaurWorld']\n",
            "['CentaurWorld', 'Dolly Parton: Heartstrings', 'Dynasty', 'Stranger things', 'Sweet Magnolias']\n",
            "['Stranger things', 'Dynasty', 'Dolly Parton: Heartstrings', 'Sweet Magnolias', 'CentaurWorld']\n",
            "['Sweet Magnolias', 'Stranger things', 'Dynasty', 'Dolly Parton: Heartstrings', 'CentaurWorld']\n",
            "5\n"
          ]
        }
      ],
      "source": [
        "#Create a list of 5 of your favorite tv shows.\n",
        "#Print the list in its original order.\n",
        "#Use the sorted() function to print the list in alphabetical order. \n",
        "#How is sorted() different from sort()?\n",
        "      #sort() is permanent and sorted() is not permanent\n",
        "#Print out your original list.\n",
        "#Used sorted() to print your list in reverse alphabetical order.\n",
        "#Create a message indicating how many favorite TV shows you have – use the len() function.\n",
        "\n",
        "Shows= ['Stranger things','Dynasty','Dolly Parton: Heartstrings','Sweet Magnolias','CentaurWorld']\n",
        "print(Shows)\n",
        "print(sorted(Shows))\n",
        "print(Shows)\n",
        "print(sorted(Shows, reverse=True))\n",
        "message= len(Shows)\n",
        "print(message)"
      ]
    }
  ]
}