{
  "nbformat": 4,
  "nbformat_minor": 0,
  "metadata": {
    "colab": {
      "name": "Assignment Unit2_L5",
      "provenance": []
    },
    "kernelspec": {
      "name": "python3",
      "display_name": "Python 3"
    },
    "language_info": {
      "name": "python"
    }
  },
  "cells": [
    {
      "cell_type": "code",
      "execution_count": null,
      "metadata": {
        "colab": {
          "base_uri": "https://localhost:8080/"
        },
        "id": "-HVUK-e0R-DC",
        "outputId": "28bb7e61-7944-446e-a837-671dcf8d54ef"
      },
      "outputs": [
        {
          "output_type": "stream",
          "name": "stdout",
          "text": [
            "Welcome Maya.smith13\n",
            "Welcome May.mai12\n",
            "Welcome Jennie.hernandez57\n",
            "Welcome Karol.can90\n",
            "Welcome Jonhson.judy6\n",
            "Welcome to you Home Page Pete.johnson@admin\n"
          ]
        }
      ],
      "source": [
        "#Make a list of 5 or more usernames, including an admin account. Imagine you are writing code \n",
        "#that will welcome people to your application on login. Loop through the list and print your greeting.\n",
        "#a. If the admin account logs in, give them a special greeting. They’re the admin, after all!\n",
        "#b. Other users can get the generic greeting\n",
        "\n",
        "\n",
        "Usernames= ['maya.smith13','may.mai12','jennie.hernandez57','karol.can90','jonhson.judy6','pete.johnson@admin']\n",
        "for names in Usernames:\n",
        "  if names in Usernames and 'admin' not in names:\n",
        "    print('Welcome',names.capitalize())\n",
        "  else:\n",
        "    print('Welcome to you Home Page', names.capitalize())"
      ]
    },
    {
      "cell_type": "code",
      "source": [
        "#Store numbers 1-10 in a list \n",
        "#a. Loop through the list\n",
        "#b. Use an if-elif-else chain inside your loop to print the ordinal ending for each number –\n",
        "#for example – 1 st , 2 nd , 3 rd … etc.\n",
        "\n",
        "Numbers= list(range(1,11))\n",
        "for digits in Numbers:\n",
        "  if digits==1:\n",
        "    print(str(digits)+'st')\n",
        "  elif digits==2:\n",
        "    print(str(digits)+'nd')\n",
        "  elif digits==3:\n",
        "    print(str(digits)+'rd')\n",
        "  else:\n",
        "    print(str(digits)+'th')\n",
        "\n"
      ],
      "metadata": {
        "colab": {
          "base_uri": "https://localhost:8080/"
        },
        "id": "aOrql1c2t7-2",
        "outputId": "301beaaa-56f7-4fcc-8e77-4aae9ba187af"
      },
      "execution_count": null,
      "outputs": [
        {
          "output_type": "stream",
          "name": "stdout",
          "text": [
            "1st\n",
            "2nd\n",
            "3rd\n",
            "4th\n",
            "5th\n",
            "6th\n",
            "7th\n",
            "8th\n",
            "9th\n",
            "10th\n"
          ]
        }
      ]
    }
  ]
}