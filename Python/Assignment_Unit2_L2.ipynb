{
  "nbformat": 4,
  "nbformat_minor": 0,
  "metadata": {
    "colab": {
      "name": "Assignment Unit2_L2",
      "provenance": [],
      "collapsed_sections": []
    },
    "kernelspec": {
      "name": "python3",
      "display_name": "Python 3"
    },
    "language_info": {
      "name": "python"
    }
  },
  "cells": [
    {
      "cell_type": "code",
      "execution_count": null,
      "metadata": {
        "id": "npzxVndOWz-6"
      },
      "outputs": [],
      "source": [
        "#What is Python and why is it useful?\n",
        "\n",
        "#Python is a programming language, and it is useful because it is meant to be easy to use and understandable"
      ]
    },
    {
      "cell_type": "code",
      "source": [
        "#Are the following variable names allowed in python?\n",
        "#a. 1_message\n",
        "#b. Greeting_message\n",
        "#c. Message_1\n",
        "#d. First name\n",
        "#e. Full_name\n",
        "\n",
        "#Greeting_message, Message_1, Full_name are allowed in Python\n",
        "\n"
      ],
      "metadata": {
        "id": "BbUkhNgEaStC"
      },
      "execution_count": null,
      "outputs": []
    },
    {
      "cell_type": "code",
      "source": [
        "#Create a variable that holds the string “hello there!”\n",
        "\n",
        "a= 'Hello there!'\n",
        "print(a)"
      ],
      "metadata": {
        "colab": {
          "base_uri": "https://localhost:8080/"
        },
        "id": "uPdsD0w7bJhx",
        "outputId": "5f17feec-af29-4d85-da52-a9f112a0a9c0"
      },
      "execution_count": null,
      "outputs": [
        {
          "output_type": "stream",
          "name": "stdout",
          "text": [
            "Hello there!\n"
          ]
        }
      ]
    },
    {
      "cell_type": "code",
      "source": [
        "#Create a variable for first name, last name and an email extension. Concatenating all three\n",
        "#together to form an email address. For example: firstnamelastname@gmail.com\n",
        "\n",
        "First_name= 'karl'\n",
        "Last_name='smith'\n",
        "Email= '@gmail.com'\n",
        "print(First_name+Last_name+Email)"
      ],
      "metadata": {
        "colab": {
          "base_uri": "https://localhost:8080/"
        },
        "id": "BF77wxPHcEyc",
        "outputId": "c28815b3-5ccb-4143-b6fd-0f0aa98eb9f4"
      },
      "execution_count": null,
      "outputs": [
        {
          "output_type": "stream",
          "name": "stdout",
          "text": [
            "karlsmith@gmail.com\n"
          ]
        }
      ]
    },
    {
      "cell_type": "code",
      "source": [
        "#Store someone you know name in a variable called name. Print their name in lower and\n",
        "#uppercase using a method.\n",
        "\n",
        "name='Karl'\n",
        "print(name.upper())\n",
        "print(name.lower())"
      ],
      "metadata": {
        "colab": {
          "base_uri": "https://localhost:8080/"
        },
        "id": "rllpKooVciTt",
        "outputId": "7d0d7da0-9ba8-4c70-a971-85e809dd78ee"
      },
      "execution_count": null,
      "outputs": [
        {
          "output_type": "stream",
          "name": "stdout",
          "text": [
            "KARL\n",
            "karl\n"
          ]
        }
      ]
    },
    {
      "cell_type": "code",
      "source": [
        "#Using a variable, ask your friend if they want to hang out on the 15th of the month. For example,\n",
        "#“Do you want to hang out on the 15th of this month?” You should have to convert the number to a string.\n",
        "\n",
        "number= 15\n",
        "message= 'Do you want to hang out on the {}th of this month?'\n",
        "print(message.format(number))"
      ],
      "metadata": {
        "colab": {
          "base_uri": "https://localhost:8080/"
        },
        "id": "j96FeSkmdMBX",
        "outputId": "81f256de-ede1-49eb-d961-5174d4bce773"
      },
      "execution_count": null,
      "outputs": [
        {
          "output_type": "stream",
          "name": "stdout",
          "text": [
            "Do you want to hang out on the 15th of this month?\n"
          ]
        }
      ]
    }
  ]
}