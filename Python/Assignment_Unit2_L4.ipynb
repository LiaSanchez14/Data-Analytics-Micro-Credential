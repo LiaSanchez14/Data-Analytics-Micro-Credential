{
  "nbformat": 4,
  "nbformat_minor": 0,
  "metadata": {
    "colab": {
      "name": "Assignment Unit2_L4",
      "provenance": []
    },
    "kernelspec": {
      "name": "python3",
      "display_name": "Python 3"
    },
    "language_info": {
      "name": "python"
    }
  },
  "cells": [
    {
      "cell_type": "code",
      "execution_count": null,
      "metadata": {
        "colab": {
          "base_uri": "https://localhost:8080/"
        },
        "id": "Wa8N6n76pDMK",
        "outputId": "93e78bbc-945d-406a-d7db-cd9247cb8662"
      },
      "outputs": [
        {
          "output_type": "stream",
          "name": "stdout",
          "text": [
            "a is one of my favorite letters\n",
            "b is one of my favorite letters\n",
            "c is one of my favorite letters\n",
            "d is one of my favorite letters\n",
            "e is one of my favorite letters\n"
          ]
        }
      ],
      "source": [
        "#Create a list that holds 5 data variables.\n",
        "#Print out those variables by using a for loop.\n",
        "#Modify your for loop to add a message to your for loop.\n",
        "\n",
        "Variables=['a','b','c','d','e']\n",
        "for letters in Variables:\n",
        "  print(letters, 'is one of my favorite letters')\n",
        "\n",
        "\n",
        "\n",
        "  "
      ]
    },
    {
      "cell_type": "code",
      "source": [
        "#Use a for loop to print even numbers from 1-20.\n",
        "\n",
        "numbers= list(range(0,21,2))\n",
        "for digits in numbers:\n",
        "  print(digits)"
      ],
      "metadata": {
        "colab": {
          "base_uri": "https://localhost:8080/"
        },
        "id": "xxrjGBHXsZY9",
        "outputId": "0c4aa11d-0e13-47db-9e00-7c913e7282c1"
      },
      "execution_count": null,
      "outputs": [
        {
          "output_type": "stream",
          "name": "stdout",
          "text": [
            "0\n",
            "2\n",
            "4\n",
            "6\n",
            "8\n",
            "10\n",
            "12\n",
            "14\n",
            "16\n",
            "18\n",
            "20\n"
          ]
        }
      ]
    },
    {
      "cell_type": "code",
      "source": [
        "#Sort your list in alphabetic order.\n",
        "#Print out the first three elements of your list.\n",
        "#Create a loop to print the last 2 elements of your list.\n",
        "\n",
        "colors=['red','blue','yellow','green','orange','white']\n",
        "colors.sort()\n",
        "print(colors)\n",
        "print(colors [0], colors[1], colors[2])\n",
        "for c in colors:\n",
        "  print(colors[-1],colors[-2])"
      ],
      "metadata": {
        "colab": {
          "base_uri": "https://localhost:8080/"
        },
        "id": "tWAsC2Gdt0mc",
        "outputId": "f3228a9c-22fe-4519-f949-72e2970b32ba"
      },
      "execution_count": null,
      "outputs": [
        {
          "output_type": "stream",
          "name": "stdout",
          "text": [
            "['blue', 'green', 'orange', 'red', 'white', 'yellow']\n",
            "blue green orange\n",
            "yellow white\n",
            "yellow white\n",
            "yellow white\n",
            "yellow white\n",
            "yellow white\n",
            "yellow white\n"
          ]
        }
      ]
    }
  ]
}